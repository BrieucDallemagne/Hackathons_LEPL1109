{
 "cells": [
  {
   "cell_type": "markdown",
   "metadata": {},
   "source": [
    "# Hackathon Stat\n",
    "\n",
    "This project illustrates the course LEPL1109 with an industrial application of statistics. You will analyse the capacity of solar production of electricity located in the French cities of Caen and Tours.\n",
    "The file 'radiation.csv' contains 3 columns \n",
    "DATE           : YYYYMMDD,\n",
    "Caen and Tours : the daily solar radiation in W/m2 measured in the 2 cities. \n",
    "Notice that data for some days are not reported due to failure of measurement system.\n",
    "\n",
    "## Report content\n",
    "\n",
    "•\tYou have to fill in this  jupyter notebook downloadable on the moodle website of the course\n",
    "\n",
    "•\tGrades are granted to the members whose names are in the Jupyter notebook. If your name doesn’t appear on the top of the notebook, you’ll get a 0, even though you are in a group on Moodle.\n",
    "\n",
    "•\tThe jupyter notebook must be compiled with printed results and next submitted via moodle. The absence of compiled results (or non-printed values) leads to a lower grade.\n",
    "\n",
    "## Report submission\n",
    "\n",
    "•\tThe deadline for submission is reported on the moodle website. Submission after the deadline will not be accepted.\n",
    "\n",
    "•\tTo submit your report, go to the section “APP” on Moodle and the subsection “Soumission du rapport”. You can upload your work there. Once you are sure that it is your final version, click the button “Envoyer le devoir”. It is important that you don’t forget to click on this button ! \n",
    "\n",
    "•\tReports that have not been uploaded through Moodle will not be corrected.\n",
    "\n",
    "## Names and Noma of participants:\n",
    "\n",
    "Part. 1:\n",
    "\n",
    "Part. 2:\n",
    "\n",
    "Part. 3:\n",
    "\n",
    "Part. 4:\n",
    "\n",
    "---\n",
    "## 1. Energy calculation and basic statistics\n",
    "\n",
    "Compute the daily energy in WH per square meter of solar panel. For this purpose you use the datasets reporting the solar irradation measure in Caen and Tours (source https://www.ecad.eu/). The irradiation is measured in W/m2 per day. You will use the formula:\n",
    "\n",
    "C = E_Sol x 24 x P_cr x f_perf\n",
    "\n",
    "where  \n",
    "\n",
    "C is the electricity produced in WH/m2 for a day\n",
    "\n",
    "E_sol is the daily solar radiation in W/m2 \n",
    "\n",
    "P_cr is the peak power coefficient, set here to  0.18 (monocristal silicium)\n",
    "\n",
    "f_perf depends upon the system, set here to 0.75.\n",
    "\n",
    "Remark:\n",
    "\n",
    "1 W = 1 J/sec\n",
    "\n",
    "1 WH  is 1W x 3600sec = 3600J\n",
    "\n",
    "energy/m2 = E_sol * 24 * 3600 J/m2 = E_sol * 24 WH/m2"
   ]
  },
  {
   "cell_type": "markdown",
   "metadata": {},
   "source": [
    "---\n",
    "1.1. Start by computing the daily energy in WH produced by a 1m2 solar panel\n",
    "\n",
    "a. Plot time-series of solar electric production in Caen and Tours from 1974 to 2023. Comment the evolution.\n",
    "\n",
    "b. Plot boxplots of daily productions for both cities. Comment the box plot.\n",
    "\n",
    "c. Remove outliers using the interquartile range. \n",
    "\n",
    "d. Plot an histogram of daily electricity production, after removal of outliers.\n",
    "\n",
    "Watchout: remove all days for which a outlier is observed in Caen **or** Tours to keep the same number of observations.\n"
   ]
  },
  {
   "cell_type": "code",
   "execution_count": 1,
   "metadata": {},
   "outputs": [],
   "source": [
    "#code here\n"
   ]
  },
  {
   "cell_type": "markdown",
   "metadata": {},
   "source": [
    "---\n",
    "1.2. We want to compute monthly statistics of electricity solar production. Calculate for each city and for each month: \n",
    "\n",
    "1) the average daily production of electricity in Wh/m2\n",
    "\n",
    "2) the median daily production of electricity in Wh/m2\n",
    "\n",
    "3) the standard deviation daily production of electricity in Wh/m2\n",
    "\n",
    "4) the 5% percentile of daily production of electricity in Wh/m2\n",
    "\n",
    "5) the 95% percentile of daily production of electricity in Wh/m2\n",
    "\n",
    "Report the results in one or two tables. \n",
    "\n",
    "Compare and comment these statistics!"
   ]
  },
  {
   "cell_type": "code",
   "execution_count": 2,
   "metadata": {},
   "outputs": [],
   "source": [
    "#code here\n"
   ]
  },
  {
   "cell_type": "markdown",
   "metadata": {},
   "source": [
    "---\n",
    "## 2. Fit of distributions and hypothesis tests"
   ]
  },
  {
   "cell_type": "markdown",
   "metadata": {},
   "source": [
    "---\n",
    "2.1. We focus on the daily production of electricity in April. Retrieve the data for month of April, in Caen and Tours. \n",
    "\n",
    " 1) Fit Gamma and normal distributions by log-likelihood maximization to \n",
    "    daily production of electricity during April (Caen & Tours).\n",
    "    \n",
    " 2) Compute the 4 log-likelihoods and select the best model for each location (justify your answer).\n",
    " \n",
    " 3) Compare on the same plot the empirical, the  gamma and normal pdf (the\n",
    "    empirical pdf is an histogram of frequencies).\n",
    "    \n",
    " 4) Why is there 3 parameters in python for the Gamma pdf whereas there\n",
    "    is only 2 in the distribution seen during lectures? \n",
    "\n",
    "Remark : set floc to -0.001 for the gamma.fit (to avoid troubles in case of null observations)\n"
   ]
  },
  {
   "cell_type": "code",
   "execution_count": 3,
   "metadata": {},
   "outputs": [],
   "source": [
    "#code here\n"
   ]
  },
  {
   "cell_type": "markdown",
   "metadata": {},
   "source": [
    "---\n",
    "\n",
    "2.2. Check if the average daily production in April is the same in Caen and Tours. Let us recall that the null hypothesis is\n",
    "\n",
    "$H_0$: $\\mu_{Caen} = \\mu_{Tours}$.\n",
    "\n",
    "Take care to comment your conclusions. Are all assumptions required to perform this test sastisfied?"
   ]
  },
  {
   "cell_type": "code",
   "execution_count": 12,
   "metadata": {},
   "outputs": [],
   "source": [
    "#code here\n"
   ]
  },
  {
   "cell_type": "markdown",
   "metadata": {},
   "source": [
    "---\n",
    "2.3. Test the equality of variance of daily production in April at Caen & Tours?\n",
    "$H_0$: $\\sigma_{Caen}=\\sigma_{Tours}$.\n"
   ]
  },
  {
   "cell_type": "code",
   "execution_count": 11,
   "metadata": {},
   "outputs": [],
   "source": [
    "#code here\n"
   ]
  },
  {
   "cell_type": "markdown",
   "metadata": {},
   "source": [
    "---\n",
    "2.4. Explain the Wilcoxon's test. What is the main advantage of this test compared to the Student's T test. Why is this useful in our project? "
   ]
  },
  {
   "cell_type": "markdown",
   "metadata": {},
   "source": [
    "---\n",
    "2.5. Apply the Wilcoxon test to distributions of daily productions in April, at Caen and Tours.  What can you conclude about the means of daily production in these 2 cities?\n"
   ]
  },
  {
   "cell_type": "code",
   "execution_count": 10,
   "metadata": {},
   "outputs": [],
   "source": [
    "#code here\n"
   ]
  },
  {
   "cell_type": "markdown",
   "metadata": {},
   "source": [
    "---\n",
    "## 3. Regression and forecasting "
   ]
  },
  {
   "cell_type": "markdown",
   "metadata": {},
   "source": [
    "---\n",
    "3.1. Do we observe any trend in the yearly solar production of electricity over the considered period?\n",
    "To answer this question: \n",
    "\n",
    "a. You will compute the average daily production (Wh/m2) during April from 1977 up to 2019 (included).\n",
    "\n",
    "b. You get a time-series of 44 values for each city. Regress these values on the explanatory\n",
    "variables X=(Year-1977). Don't forget to add a constant term and analyze results. \n",
    "\n",
    "c. Plot on the same graph, the predicted and the observed values.\n",
    "\n",
    "d. Comment your results! \n"
   ]
  },
  {
   "cell_type": "code",
   "execution_count": 7,
   "metadata": {},
   "outputs": [],
   "source": [
    "#code here\n"
   ]
  },
  {
   "cell_type": "markdown",
   "metadata": {},
   "source": [
    "---\n",
    "3.2. You want to design a model to forecast the solar electric production for the next day (location Caen only). You will work with data over the period 1977 to 2019. \n",
    "\n",
    "Let us denote by C(t) the production on day 't'. The model that we want to fit is called autoregressive and is defined as follows:\n",
    "\n",
    "$$C(t) = \\sum_{k=1}^{10} a_k C(t-k) $$\n",
    "\n",
    "This model is common in time-series analysis and predicts the production of the next day with the  recent observations.\n",
    "\n",
    "a. Split the dataset into a training set (1977 to 2010 included) and a validation set (2011 to 2019 included).\n",
    "\n",
    "b.\tEstimate this model with statsmodels on the training set. \n",
    "\n",
    "c.\tHow would you judge the quality of the predictive model? (Analyze statistics reported by statsmodel)\n",
    "\n",
    "d.\tCompute the Mean Absolute Error (MAE) between predicted and real consumptions (on the training set)."
   ]
  },
  {
   "cell_type": "code",
   "execution_count": 8,
   "metadata": {},
   "outputs": [],
   "source": [
    "#code here\n"
   ]
  },
  {
   "cell_type": "markdown",
   "metadata": {},
   "source": [
    "---\n",
    "3.3. Use this model on the test set to forecast the electric daily production.\n",
    "\n",
    "a. Compare on a graph, the forecast to  real consumptions on the given period. \n",
    "\n",
    "b. Plot the errors of prediction. Are they acceptable?\n",
    "\n",
    "c. Compute the MAE on the test set and the $R^2$. Is the forecast reliable?"
   ]
  },
  {
   "cell_type": "code",
   "execution_count": 9,
   "metadata": {
    "scrolled": true
   },
   "outputs": [],
   "source": [
    "# code here\n"
   ]
  }
 ],
 "metadata": {
  "kernelspec": {
   "display_name": "Python 3 (ipykernel)",
   "language": "python",
   "name": "python3"
  },
  "language_info": {
   "codemirror_mode": {
    "name": "ipython",
    "version": 3
   },
   "file_extension": ".py",
   "mimetype": "text/x-python",
   "name": "python",
   "nbconvert_exporter": "python",
   "pygments_lexer": "ipython3",
   "version": "3.9.12"
  }
 },
 "nbformat": 4,
 "nbformat_minor": 4
}
